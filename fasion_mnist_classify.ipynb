{
 "cells": [
  {
   "cell_type": "code",
   "execution_count": 1,
   "outputs": [
    {
     "name": "stderr",
     "output_type": "stream",
     "text": [
      "2024-03-02 00:10:04.464412: I tensorflow/core/platform/cpu_feature_guard.cc:182] This TensorFlow binary is optimized to use available CPU instructions in performance-critical operations.\n",
      "To enable the following instructions: AVX2 FMA, in other operations, rebuild TensorFlow with the appropriate compiler flags.\n"
     ]
    },
    {
     "name": "stdout",
     "output_type": "stream",
     "text": [
      "Downloading data from https://storage.googleapis.com/tensorflow/tf-keras-datasets/train-labels-idx1-ubyte.gz\n",
      "29515/29515 [==============================] - 0s 1us/step\n",
      "Downloading data from https://storage.googleapis.com/tensorflow/tf-keras-datasets/train-images-idx3-ubyte.gz\n",
      "26421880/26421880 [==============================] - 1s 0us/step\n",
      "Downloading data from https://storage.googleapis.com/tensorflow/tf-keras-datasets/t10k-labels-idx1-ubyte.gz\n",
      "5148/5148 [==============================] - 0s 0us/step\n",
      "Downloading data from https://storage.googleapis.com/tensorflow/tf-keras-datasets/t10k-images-idx3-ubyte.gz\n",
      "4422102/4422102 [==============================] - 0s 0us/step\n"
     ]
    }
   ],
   "source": [
    "import tensorflow as tf\n",
    "data = tf.keras.datasets.fashion_mnist\n",
    "(train_image, train_labels), (test_image, test_labels) = data.load_data()"
   ],
   "metadata": {
    "collapsed": false,
    "pycharm": {
     "name": "#%%\n"
    }
   }
  },
  {
   "cell_type": "code",
   "execution_count": 2,
   "outputs": [],
   "source": [
    "train_image = train_image/255.0\n",
    "test_image = test_image/255.0"
   ],
   "metadata": {
    "collapsed": false,
    "pycharm": {
     "name": "#%%\n"
    }
   }
  },
  {
   "cell_type": "code",
   "execution_count": 7,
   "outputs": [],
   "source": [
    "model = tf.keras.Sequential([\n",
    "    tf.keras.layers.Flatten(input_shape=(28,28)),\n",
    "    tf.keras.layers.Dense(256, activation=tf.nn.relu),\n",
    "    tf.keras.layers.Dropout(0.2),\n",
    "    tf.keras.layers.Dense(128, activation=tf.nn.relu),\n",
    "    tf.keras.layers.Dropout(0.2),\n",
    "    tf.keras.layers.Dense(64, activation=tf.nn.relu),\n",
    "    tf.keras.layers.Dropout(0.2),\n",
    "    tf.keras.layers.Dense(10, activation=tf.nn.softmax)\n",
    "])\n",
    "\n",
    "model.compile(optimizer='adam',\n",
    "              loss='sparse_categorical_crossentropy',\n",
    "              metrics=['accuracy'])\n"
   ],
   "metadata": {
    "collapsed": false,
    "pycharm": {
     "name": "#%%\n"
    }
   }
  },
  {
   "cell_type": "code",
   "execution_count": 8,
   "outputs": [
    {
     "name": "stdout",
     "output_type": "stream",
     "text": [
      "Epoch 1/20\n",
      "1875/1875 [==============================] - 5s 2ms/step - loss: 0.5953 - accuracy: 0.7890\n",
      "Epoch 2/20\n",
      "1875/1875 [==============================] - 6s 3ms/step - loss: 0.4338 - accuracy: 0.8438\n",
      "Epoch 3/20\n",
      "1875/1875 [==============================] - 10s 5ms/step - loss: 0.3951 - accuracy: 0.8577\n",
      "Epoch 4/20\n",
      "1875/1875 [==============================] - 17s 9ms/step - loss: 0.3758 - accuracy: 0.8658\n",
      "Epoch 5/20\n",
      "1875/1875 [==============================] - 60s 32ms/step - loss: 0.3574 - accuracy: 0.8705\n",
      "Epoch 6/20\n",
      "1875/1875 [==============================] - 112s 60ms/step - loss: 0.3446 - accuracy: 0.8753\n",
      "Epoch 7/20\n",
      "1875/1875 [==============================] - 121s 64ms/step - loss: 0.3345 - accuracy: 0.8781\n",
      "Epoch 8/20\n",
      "1875/1875 [==============================] - 136s 72ms/step - loss: 0.3256 - accuracy: 0.8801\n",
      "Epoch 9/20\n",
      "1875/1875 [==============================] - 120s 64ms/step - loss: 0.3167 - accuracy: 0.8837\n",
      "Epoch 10/20\n",
      "1875/1875 [==============================] - 120s 64ms/step - loss: 0.3105 - accuracy: 0.8856\n",
      "Epoch 11/20\n",
      "1875/1875 [==============================] - 122s 65ms/step - loss: 0.3027 - accuracy: 0.8897\n",
      "Epoch 12/20\n",
      "1875/1875 [==============================] - 115s 61ms/step - loss: 0.2960 - accuracy: 0.8916\n",
      "Epoch 13/20\n",
      "1875/1875 [==============================] - 112s 60ms/step - loss: 0.2924 - accuracy: 0.8919\n",
      "Epoch 14/20\n",
      "1875/1875 [==============================] - 112s 60ms/step - loss: 0.2877 - accuracy: 0.8940\n",
      "Epoch 15/20\n",
      "1875/1875 [==============================] - 121s 65ms/step - loss: 0.2802 - accuracy: 0.8976\n",
      "Epoch 16/20\n",
      "1875/1875 [==============================] - 105s 56ms/step - loss: 0.2808 - accuracy: 0.8959\n",
      "Epoch 17/20\n",
      "1875/1875 [==============================] - 103s 55ms/step - loss: 0.2763 - accuracy: 0.8972\n",
      "Epoch 18/20\n",
      "1875/1875 [==============================] - 89s 47ms/step - loss: 0.2720 - accuracy: 0.9006\n",
      "Epoch 19/20\n",
      "1875/1875 [==============================] - 66s 35ms/step - loss: 0.2701 - accuracy: 0.9011\n",
      "Epoch 20/20\n",
      "1875/1875 [==============================] - 62s 33ms/step - loss: 0.2672 - accuracy: 0.9013\n"
     ]
    },
    {
     "data": {
      "text/plain": "<keras.src.callbacks.History at 0x165a3c7d0>"
     },
     "execution_count": 8,
     "metadata": {},
     "output_type": "execute_result"
    }
   ],
   "source": [
    "model.fit(train_image, train_labels, epochs=20)"
   ],
   "metadata": {
    "collapsed": false,
    "pycharm": {
     "name": "#%%\n"
    }
   }
  },
  {
   "cell_type": "code",
   "execution_count": 9,
   "outputs": [
    {
     "name": "stdout",
     "output_type": "stream",
     "text": [
      "313/313 [==============================] - 1s 4ms/step - loss: 0.3319 - accuracy: 0.8808\n"
     ]
    },
    {
     "data": {
      "text/plain": "[0.33186888694763184, 0.8808000087738037]"
     },
     "execution_count": 9,
     "metadata": {},
     "output_type": "execute_result"
    }
   ],
   "source": [
    "model.evaluate(test_image, test_labels)"
   ],
   "metadata": {
    "collapsed": false,
    "pycharm": {
     "name": "#%%\n"
    }
   }
  },
  {
   "cell_type": "code",
   "execution_count": 10,
   "outputs": [
    {
     "name": "stdout",
     "output_type": "stream",
     "text": [
      "313/313 [==============================] - 1s 3ms/step\n",
      "[8.1264641e-11 3.3013743e-14 2.3326082e-08 6.9678937e-12 3.9372637e-11\n",
      " 1.7230803e-04 2.1795238e-08 6.9996016e-03 9.5342553e-11 9.9282807e-01]\n",
      "9\n"
     ]
    }
   ],
   "source": [
    "classifications = model.predict(test_image)\n",
    "print(classifications[0])\n",
    "print(test_labels[0])"
   ],
   "metadata": {
    "collapsed": false,
    "pycharm": {
     "name": "#%%\n"
    }
   }
  },
  {
   "cell_type": "code",
   "execution_count": null,
   "outputs": [],
   "source": [],
   "metadata": {
    "collapsed": false,
    "pycharm": {
     "name": "#%%\n"
    }
   }
  }
 ],
 "metadata": {
  "kernelspec": {
   "display_name": "Python 3",
   "language": "python",
   "name": "python3"
  },
  "language_info": {
   "codemirror_mode": {
    "name": "ipython",
    "version": 2
   },
   "file_extension": ".py",
   "mimetype": "text/x-python",
   "name": "python",
   "nbconvert_exporter": "python",
   "pygments_lexer": "ipython2",
   "version": "2.7.6"
  }
 },
 "nbformat": 4,
 "nbformat_minor": 0
}